{
 "cells": [
  {
   "cell_type": "code",
   "execution_count": 1,
   "metadata": {},
   "outputs": [],
   "source": [
    "import pandas as pd\n",
    "import json\n",
    "from pandas import json_normalize\n",
    "import csv"
   ]
  },
  {
   "cell_type": "code",
   "execution_count": 10,
   "metadata": {},
   "outputs": [],
   "source": [
    "path = 'C:/projects/DataEngineering/프로젝트'\n",
    "df = pd.read_csv(path+'/서울시_어린이보호구역.csv')\n"
   ]
  },
  {
   "cell_type": "code",
   "execution_count": 32,
   "metadata": {},
   "outputs": [
    {
     "data": {
      "text/plain": [
       "1995    212\n",
       "1996    104\n",
       "1997    176\n",
       "1998    143\n",
       "1999     16\n",
       "2000      9\n",
       "2001      9\n",
       "2002      3\n",
       "2003     20\n",
       "2004     12\n",
       "2005     33\n",
       "2006     74\n",
       "2007     64\n",
       "2008     88\n",
       "2009    103\n",
       "2010    266\n",
       "2011     52\n",
       "2012     49\n",
       "2013     43\n",
       "2014     23\n",
       "2015     33\n",
       "2016     32\n",
       "2017     20\n",
       "2018     27\n",
       "2019     42\n",
       "2020     74\n",
       "2021     14\n",
       "Name: 지정일자, dtype: int64"
      ]
     },
     "execution_count": 32,
     "metadata": {},
     "output_type": "execute_result"
    }
   ],
   "source": [
    "df['지정일자'].value_counts().sort_index()"
   ]
  }
 ],
 "metadata": {
  "kernelspec": {
   "display_name": "Python 3",
   "language": "python",
   "name": "python3"
  },
  "language_info": {
   "codemirror_mode": {
    "name": "ipython",
    "version": 3
   },
   "file_extension": ".py",
   "mimetype": "text/x-python",
   "name": "python",
   "nbconvert_exporter": "python",
   "pygments_lexer": "ipython3",
   "version": "3.8.5"
  }
 },
 "nbformat": 4,
 "nbformat_minor": 4
}
