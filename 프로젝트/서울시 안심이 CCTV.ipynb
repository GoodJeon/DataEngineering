{
 "cells": [
  {
   "cell_type": "markdown",
   "metadata": {},
   "source": [
    "모듈 호출"
   ]
  },
  {
   "cell_type": "code",
   "execution_count": 81,
   "metadata": {},
   "outputs": [],
   "source": [
    "import pandas as pd"
   ]
  },
  {
   "cell_type": "markdown",
   "metadata": {},
   "source": [
    "파일 경로 잡아주고 dataframe으로 만들어주기"
   ]
  },
  {
   "cell_type": "code",
   "execution_count": 113,
   "metadata": {},
   "outputs": [],
   "source": [
    "path = 'C:/projects/DataEngineering/프로젝트/서울특별시 (안심이) CCTV 설치 현황.csv'"
   ]
  },
  {
   "cell_type": "code",
   "execution_count": 114,
   "metadata": {},
   "outputs": [],
   "source": [
    "cctv = pd.read_csv(path,encoding='cp949')"
   ]
  },
  {
   "cell_type": "markdown",
   "metadata": {},
   "source": [
    "결측치 확인"
   ]
  },
  {
   "cell_type": "code",
   "execution_count": 115,
   "metadata": {},
   "outputs": [
    {
     "data": {
      "text/plain": [
       "자치구         0\n",
       "안심 주소       0\n",
       "CCTV 용도    87\n",
       "위도          0\n",
       "경도          0\n",
       "CCTV 수량     0\n",
       "수정 일시       0\n",
       "dtype: int64"
      ]
     },
     "execution_count": 115,
     "metadata": {},
     "output_type": "execute_result"
    }
   ],
   "source": [
    "cctv.isnull().sum()"
   ]
  },
  {
   "cell_type": "markdown",
   "metadata": {},
   "source": [
    "결측치가 있는 데이터 확인"
   ]
  },
  {
   "cell_type": "code",
   "execution_count": 116,
   "metadata": {},
   "outputs": [
    {
     "data": {
      "text/html": [
       "<div>\n",
       "<style scoped>\n",
       "    .dataframe tbody tr th:only-of-type {\n",
       "        vertical-align: middle;\n",
       "    }\n",
       "\n",
       "    .dataframe tbody tr th {\n",
       "        vertical-align: top;\n",
       "    }\n",
       "\n",
       "    .dataframe thead th {\n",
       "        text-align: right;\n",
       "    }\n",
       "</style>\n",
       "<table border=\"1\" class=\"dataframe\">\n",
       "  <thead>\n",
       "    <tr style=\"text-align: right;\">\n",
       "      <th></th>\n",
       "      <th>자치구</th>\n",
       "      <th>안심 주소</th>\n",
       "      <th>CCTV 용도</th>\n",
       "      <th>위도</th>\n",
       "      <th>경도</th>\n",
       "      <th>CCTV 수량</th>\n",
       "      <th>수정 일시</th>\n",
       "    </tr>\n",
       "  </thead>\n",
       "  <tbody>\n",
       "    <tr>\n",
       "      <th>3499</th>\n",
       "      <td>중구</td>\n",
       "      <td>난계로17길 19-5 옆 주택가 골목 입구</td>\n",
       "      <td>NaN</td>\n",
       "      <td>37.569127</td>\n",
       "      <td>127.022259</td>\n",
       "      <td>2</td>\n",
       "      <td>2018-12-11</td>\n",
       "    </tr>\n",
       "    <tr>\n",
       "      <th>3500</th>\n",
       "      <td>중구</td>\n",
       "      <td>다산로 138 앞 버스정류장 옆 인도</td>\n",
       "      <td>NaN</td>\n",
       "      <td>37.556147</td>\n",
       "      <td>127.011480</td>\n",
       "      <td>2</td>\n",
       "      <td>2018-12-11</td>\n",
       "    </tr>\n",
       "    <tr>\n",
       "      <th>3502</th>\n",
       "      <td>중구</td>\n",
       "      <td>서애로1길 34 묵정아파트 앞 인도</td>\n",
       "      <td>NaN</td>\n",
       "      <td>37.560859</td>\n",
       "      <td>126.999945</td>\n",
       "      <td>2</td>\n",
       "      <td>2018-12-11</td>\n",
       "    </tr>\n",
       "    <tr>\n",
       "      <th>3585</th>\n",
       "      <td>중구</td>\n",
       "      <td>다산로24가길 23 문화마당 옆</td>\n",
       "      <td>NaN</td>\n",
       "      <td>37.556481</td>\n",
       "      <td>127.016190</td>\n",
       "      <td>3</td>\n",
       "      <td>2018-12-11</td>\n",
       "    </tr>\n",
       "    <tr>\n",
       "      <th>3586</th>\n",
       "      <td>중구</td>\n",
       "      <td>동호로25길 37-5 주택가 골목 화단 위</td>\n",
       "      <td>NaN</td>\n",
       "      <td>37.559231</td>\n",
       "      <td>127.001108</td>\n",
       "      <td>1</td>\n",
       "      <td>2018-12-11</td>\n",
       "    </tr>\n",
       "    <tr>\n",
       "      <th>...</th>\n",
       "      <td>...</td>\n",
       "      <td>...</td>\n",
       "      <td>...</td>\n",
       "      <td>...</td>\n",
       "      <td>...</td>\n",
       "      <td>...</td>\n",
       "      <td>...</td>\n",
       "    </tr>\n",
       "    <tr>\n",
       "      <th>16240</th>\n",
       "      <td>송파구</td>\n",
       "      <td>위례동 4</td>\n",
       "      <td>NaN</td>\n",
       "      <td>37.477352</td>\n",
       "      <td>127.139122</td>\n",
       "      <td>3</td>\n",
       "      <td>2021-01-12</td>\n",
       "    </tr>\n",
       "    <tr>\n",
       "      <th>35090</th>\n",
       "      <td>노원구</td>\n",
       "      <td>학교042.(화랑)화랑초3</td>\n",
       "      <td>NaN</td>\n",
       "      <td>37.628245</td>\n",
       "      <td>127.093881</td>\n",
       "      <td>1</td>\n",
       "      <td>2020-09-03</td>\n",
       "    </tr>\n",
       "    <tr>\n",
       "      <th>51161</th>\n",
       "      <td>강북구</td>\n",
       "      <td>삼각산동1353-6</td>\n",
       "      <td>NaN</td>\n",
       "      <td>37.620094</td>\n",
       "      <td>127.015370</td>\n",
       "      <td>1</td>\n",
       "      <td>2021-01-29</td>\n",
       "    </tr>\n",
       "    <tr>\n",
       "      <th>51164</th>\n",
       "      <td>강북구</td>\n",
       "      <td>수유동 54-5</td>\n",
       "      <td>NaN</td>\n",
       "      <td>37.630177</td>\n",
       "      <td>127.014110</td>\n",
       "      <td>1</td>\n",
       "      <td>2021-01-29</td>\n",
       "    </tr>\n",
       "    <tr>\n",
       "      <th>51166</th>\n",
       "      <td>강북구</td>\n",
       "      <td>수유동 54-5</td>\n",
       "      <td>NaN</td>\n",
       "      <td>37.630379</td>\n",
       "      <td>127.022560</td>\n",
       "      <td>1</td>\n",
       "      <td>2021-01-29</td>\n",
       "    </tr>\n",
       "  </tbody>\n",
       "</table>\n",
       "<p>87 rows × 7 columns</p>\n",
       "</div>"
      ],
      "text/plain": [
       "       자치구                    안심 주소 CCTV 용도         위도          경도  CCTV 수량  \\\n",
       "3499    중구  난계로17길 19-5 옆 주택가 골목 입구     NaN  37.569127  127.022259        2   \n",
       "3500    중구     다산로 138 앞 버스정류장 옆 인도     NaN  37.556147  127.011480        2   \n",
       "3502    중구      서애로1길 34 묵정아파트 앞 인도     NaN  37.560859  126.999945        2   \n",
       "3585    중구        다산로24가길 23 문화마당 옆     NaN  37.556481  127.016190        3   \n",
       "3586    중구  동호로25길 37-5 주택가 골목 화단 위     NaN  37.559231  127.001108        1   \n",
       "...    ...                      ...     ...        ...         ...      ...   \n",
       "16240  송파구                    위례동 4     NaN  37.477352  127.139122        3   \n",
       "35090  노원구           학교042.(화랑)화랑초3     NaN  37.628245  127.093881        1   \n",
       "51161  강북구               삼각산동1353-6     NaN  37.620094  127.015370        1   \n",
       "51164  강북구                 수유동 54-5     NaN  37.630177  127.014110        1   \n",
       "51166  강북구                 수유동 54-5     NaN  37.630379  127.022560        1   \n",
       "\n",
       "            수정 일시  \n",
       "3499   2018-12-11  \n",
       "3500   2018-12-11  \n",
       "3502   2018-12-11  \n",
       "3585   2018-12-11  \n",
       "3586   2018-12-11  \n",
       "...           ...  \n",
       "16240  2021-01-12  \n",
       "35090  2020-09-03  \n",
       "51161  2021-01-29  \n",
       "51164  2021-01-29  \n",
       "51166  2021-01-29  \n",
       "\n",
       "[87 rows x 7 columns]"
      ]
     },
     "execution_count": 116,
     "metadata": {},
     "output_type": "execute_result"
    }
   ],
   "source": [
    "cctv[cctv['CCTV 용도'].isnull()]"
   ]
  },
  {
   "cell_type": "code",
   "execution_count": 99,
   "metadata": {},
   "outputs": [
    {
     "data": {
      "text/plain": [
       "방범          43543\n",
       "어린이안전        5232\n",
       "도심공원         4338\n",
       "불법주정차        3513\n",
       "회전식           562\n",
       "쓰레기 무단투기      472\n",
       "치수방재          466\n",
       "시설물 관리        409\n",
       "고정식           385\n",
       "미세먼지          315\n",
       "산불감시           63\n",
       "자전거보관소         39\n",
       "Name: CCTV 용도, dtype: int64"
      ]
     },
     "execution_count": 99,
     "metadata": {},
     "output_type": "execute_result"
    }
   ],
   "source": [
    "cctv['CCTV 용도'].value_counts()"
   ]
  },
  {
   "cell_type": "code",
   "execution_count": 118,
   "metadata": {},
   "outputs": [],
   "source": [
    "# 데이터 행 개수 59424개\n",
    "cctv = cctv[['자치구','안심 주소','위도','경도','CCTV 수량','수정 일시']]"
   ]
  },
  {
   "cell_type": "code",
   "execution_count": 135,
   "metadata": {},
   "outputs": [
    {
     "data": {
      "text/plain": [
       "'2022-03-14'"
      ]
     },
     "execution_count": 135,
     "metadata": {},
     "output_type": "execute_result"
    }
   ],
   "source": [
    "cctv['수정 일시'].max()"
   ]
  }
 ],
 "metadata": {
  "kernelspec": {
   "display_name": "Python 3",
   "language": "python",
   "name": "python3"
  },
  "language_info": {
   "codemirror_mode": {
    "name": "ipython",
    "version": 3
   },
   "file_extension": ".py",
   "mimetype": "text/x-python",
   "name": "python",
   "nbconvert_exporter": "python",
   "pygments_lexer": "ipython3",
   "version": "3.8.5"
  }
 },
 "nbformat": 4,
 "nbformat_minor": 4
}
