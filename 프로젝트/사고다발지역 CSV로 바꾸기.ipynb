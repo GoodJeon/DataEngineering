{
 "cells": [
  {
   "cell_type": "code",
   "execution_count": 256,
   "metadata": {},
   "outputs": [
    {
     "name": "stdout",
     "output_type": "stream",
     "text": [
      "Collecting varname\n",
      "  Downloading varname-0.8.3-py3-none-any.whl (21 kB)\n",
      "Collecting pure_eval<1.0.0\n",
      "  Downloading pure_eval-0.2.2-py3-none-any.whl (11 kB)\n",
      "Collecting executing<0.9.0,>=0.8.3\n",
      "  Downloading executing-0.8.3-py2.py3-none-any.whl (16 kB)\n",
      "Collecting asttokens<3.0.0,>=2.0.0\n",
      "  Downloading asttokens-2.0.5-py2.py3-none-any.whl (20 kB)\n",
      "Requirement already satisfied: six in c:\\users\\513eh\\appdata\\roaming\\python\\python38\\site-packages (from asttokens<3.0.0,>=2.0.0->varname) (1.15.0)\n",
      "Installing collected packages: pure-eval, executing, asttokens, varname\n",
      "Successfully installed asttokens-2.0.5 executing-0.8.3 pure-eval-0.2.2 varname-0.8.3\n",
      "Note: you may need to restart the kernel to use updated packages.\n"
     ]
    }
   ],
   "source": [
    "pip install varname"
   ]
  },
  {
   "cell_type": "code",
   "execution_count": 397,
   "metadata": {},
   "outputs": [],
   "source": [
    "import pandas as pd\n",
    "import json\n",
    "from pandas import json_normalize\n",
    "import csv\n",
    "from varname import nameof\n",
    "from varname import varname"
   ]
  },
  {
   "cell_type": "code",
   "execution_count": 398,
   "metadata": {},
   "outputs": [
    {
     "ename": "FileNotFoundError",
     "evalue": "[Errno 2] No such file or directory: './namename4.json'",
     "output_type": "error",
     "traceback": [
      "\u001b[1;31m---------------------------------------------------------------------------\u001b[0m",
      "\u001b[1;31mFileNotFoundError\u001b[0m                         Traceback (most recent call last)",
      "\u001b[1;32m<ipython-input-398-23b7c7a1a079>\u001b[0m in \u001b[0;36m<module>\u001b[1;34m\u001b[0m\n\u001b[0;32m      3\u001b[0m \u001b[0mjson_file_path\u001b[0m\u001b[1;33m=\u001b[0m\u001b[1;34m\"./namename4.json\"\u001b[0m\u001b[1;33m\u001b[0m\u001b[1;33m\u001b[0m\u001b[0m\n\u001b[0;32m      4\u001b[0m \u001b[1;33m\u001b[0m\u001b[0m\n\u001b[1;32m----> 5\u001b[1;33m \u001b[1;32mwith\u001b[0m \u001b[0mopen\u001b[0m\u001b[1;33m(\u001b[0m\u001b[0mjson_file_path\u001b[0m\u001b[1;33m,\u001b[0m\u001b[1;34m'r'\u001b[0m\u001b[1;33m,\u001b[0m \u001b[0mencoding\u001b[0m\u001b[1;33m=\u001b[0m\u001b[1;34m'utf-8'\u001b[0m\u001b[1;33m)\u001b[0m \u001b[1;32mas\u001b[0m \u001b[0mj\u001b[0m\u001b[1;33m:\u001b[0m\u001b[1;33m\u001b[0m\u001b[1;33m\u001b[0m\u001b[0m\n\u001b[0m\u001b[0;32m      6\u001b[0m     \u001b[0mcontents3\u001b[0m\u001b[1;33m=\u001b[0m\u001b[0mjson\u001b[0m\u001b[1;33m.\u001b[0m\u001b[0mloads\u001b[0m\u001b[1;33m(\u001b[0m\u001b[0mj\u001b[0m\u001b[1;33m.\u001b[0m\u001b[0mread\u001b[0m\u001b[1;33m(\u001b[0m\u001b[1;33m)\u001b[0m\u001b[1;33m)\u001b[0m  \u001b[1;31m# open : r - 읽기모드, w-쓰기모드, a-추가모드\u001b[0m\u001b[1;33m\u001b[0m\u001b[1;33m\u001b[0m\u001b[0m\n",
      "\u001b[1;31mFileNotFoundError\u001b[0m: [Errno 2] No such file or directory: './namename4.json'"
     ]
    }
   ],
   "source": [
    "# json형태의 데이터(사고다발지역 지점)를 변수에 넣어준다.\n",
    "\n",
    "json_file_path=\"./namename4.json\"\n",
    "\n",
    "with open(json_file_path,'r', encoding='utf-8') as j:\n",
    "    contents3=json.loads(j.read())  # open : r - 읽기모드, w-쓰기모드, a-추가모드  \n"
   ]
  },
  {
   "cell_type": "code",
   "execution_count": 385,
   "metadata": {},
   "outputs": [],
   "source": [
    "# json형태(년도가 key)의 데이터를 넣어주면 csv파일로 바꿔준다.\n",
    "def json_to_csv(x):\n",
    "    data = []\n",
    "    df = pd.DataFrame()\n",
    "    for n in x.keys():\n",
    "        json = x[n]\n",
    "        for i in range(len(json)):\n",
    "            for j in json[i]:\n",
    "                for k in range(len(json[i][j])):\n",
    "                    for l in json[i][j][k]:\n",
    "                        for m in range(len(json[i][j][k][l])):\n",
    "                            data.append(list(json[i][j][k][l][m].values()))\n",
    "                            columns = json[i][j][k][l][m].keys()\n",
    "        year_df = pd.DataFrame(data,columns=columns)\n",
    "        year_df['발생년도'] = n\n",
    "        df = pd.concat([df, year_df], ignore_index=True)\n",
    "    \n",
    "    # 입력받은 파라미터가 파일 이름에 쓰인다.\n",
    "    # 예) json형태의 변수 child를 넣어주면 'child_accident.csv'로 저장된다.\n",
    "    vnames = [name for name in globals() if globals()[name] is x]\n",
    "    df.to_csv(f'{vnames[0]}_accident.csv')\n",
    "    return df"
   ]
  },
  {
   "cell_type": "code",
   "execution_count": 396,
   "metadata": {
    "scrolled": true
   },
   "outputs": [
    {
     "data": {
      "text/plain": [
       "91"
      ]
     },
     "execution_count": 396,
     "metadata": {},
     "output_type": "execute_result"
    }
   ],
   "source": [
    "json_to_csv(contents2).상세주소.str.contains('TG|IC|요금소').sum()"
   ]
  }
 ],
 "metadata": {
  "kernelspec": {
   "display_name": "Python 3",
   "language": "python",
   "name": "python3"
  },
  "language_info": {
   "codemirror_mode": {
    "name": "ipython",
    "version": 3
   },
   "file_extension": ".py",
   "mimetype": "text/x-python",
   "name": "python",
   "nbconvert_exporter": "python",
   "pygments_lexer": "ipython3",
   "version": "3.8.5"
  }
 },
 "nbformat": 4,
 "nbformat_minor": 4
}
